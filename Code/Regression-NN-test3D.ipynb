{
 "cells": [
  {
   "cell_type": "code",
   "execution_count": 3,
   "metadata": {},
   "outputs": [
    {
     "name": "stdout",
     "output_type": "stream",
     "text": [
      "---------------------- SCIANN 0.6.7.3 ---------------------- \n",
      "For details, check out our review paper and the documentation at: \n",
      " +  \"https://www.sciencedirect.com/science/article/pii/S0045782520307374\", \n",
      " +  \"https://arxiv.org/abs/2005.08803\", \n",
      " +  \"https://www.sciann.com\". \n",
      "\n",
      " Need support or would like to contribute, please join sciann`s slack group: \n",
      " +  \"https://join.slack.com/t/sciann/shared_invite/zt-ne1f5jlx-k_dY8RGo3ZreDXwz0f~CeA\" \n",
      " \n",
      "TensorFlow Version: 2.8.0 \n",
      "Python Version: 3.10.4 (main, Mar 31 2022, 08:41:55) [GCC 7.5.0] \n",
      "\n"
     ]
    }
   ],
   "source": [
    "# Import modules\n",
    "\n",
    "#import wget\n",
    "import numpy as np\n",
    "import matplotlib.pyplot as plt\n",
    "import sciann as sn\n",
    "from sklearn.model_selection import train_test_split"
   ]
  },
  {
   "cell_type": "code",
   "execution_count": 11,
   "metadata": {},
   "outputs": [
    {
     "name": "stdout",
     "output_type": "stream",
     "text": [
      "(1000, 1)\n"
     ]
    }
   ],
   "source": [
    "# Prepare data\n",
    "\n",
    "import numpy as np\n",
    "from numpy import float64\n",
    "import random\n",
    "\n",
    "#train_size = 168076\n",
    "#test_size = 210095 - 168076\n",
    "train_size = 1000\n",
    "test_size = 200\n",
    "\n",
    "x1_train = np.zeros((train_size,1))\n",
    "x2_train = np.zeros((train_size,1))\n",
    "x3_train = np.zeros((train_size,1))\n",
    "f_train = np.zeros((train_size,1))\n",
    "\n",
    "x1_test = np.zeros((test_size,1))\n",
    "x2_test = np.zeros((test_size,1))\n",
    "x3_test = np.zeros((test_size,1))\n",
    "f_test = np.zeros((test_size,1))\n",
    "\n",
    "for i in range(train_size):\n",
    "    x1_train[i,0] = random.random()*2*np.pi\n",
    "    x2_train[i,0] = random.random()*2*np.pi\n",
    "    x3_train[i,0] = random.random()*2*np.pi\n",
    "    f_train[i,0] = np.sin(x1_train[i,0])*np.sin(x2_train[i,0])*np.sin(x3_train[i,0])*np.random.normal(0,1)\n",
    "\n",
    "for i in range(test_size):\n",
    "    x1_test[i,0] = random.random()*2*np.pi\n",
    "    x2_test[i,0] = random.random()*2*np.pi\n",
    "    x3_test[i,0] = random.random()*2*np.pi\n",
    "    f_test[i,0] = np.sin(x1_test[i,0])*np.sin(x2_test[i,0])*np.sin(x3_test[i,0])*np.random.normal(0,1)    \n",
    "\n",
    "#print(x1_train)\n",
    "#print(f_train)\n",
    "\n",
    "print(x1_train.shape)\n"
   ]
  },
  {
   "cell_type": "code",
   "execution_count": 9,
   "metadata": {},
   "outputs": [
    {
     "name": "stdout",
     "output_type": "stream",
     "text": [
      "Model: \"model_2\"\n",
      "__________________________________________________________________________________________________\n",
      " Layer (type)                   Output Shape         Param #     Connected to                     \n",
      "==================================================================================================\n",
      " x1 (InputLayer)                [(None, 1)]          0           []                               \n",
      "                                                                                                  \n",
      " x3 (InputLayer)                [(None, 1)]          0           []                               \n",
      "                                                                                                  \n",
      " concat_3 (Concatenate)         (None, 3)            0           ['x1[0][0]',                     \n",
      "                                                                  'x3[0][0]',                     \n",
      "                                                                  'x3[0][0]']                     \n",
      "                                                                                                  \n",
      " D10b_9 (Dense)                 (None, 10)           40          ['concat_3[0][0]']               \n",
      "                                                                                                  \n",
      " D10b_10 (Dense)                (None, 10)           110         ['sci_activation_10[0][0]']      \n",
      "                                                                                                  \n",
      " D10b_11 (Dense)                (None, 10)           110         ['sci_activation_11[0][0]']      \n",
      "                                                                                                  \n",
      " D10b_12 (Dense)                (None, 10)           110         ['sci_activation_12[0][0]']      \n",
      "                                                                                                  \n",
      " x2 (InputLayer)                [(None, 1)]          0           []                               \n",
      "                                                                                                  \n",
      " f (Field)                      (None, 1)            11          ['sci_activation_13[0][0]']      \n",
      "                                                                                                  \n",
      "==================================================================================================\n",
      "Total params: 381\n",
      "Trainable params: 381\n",
      "Non-trainable params: 0\n",
      "__________________________________________________________________________________________________\n"
     ]
    }
   ],
   "source": [
    "# Set up NN\n",
    "\n",
    "x1 = sn.Variable('x1')\n",
    "x2 = sn.Variable('x2')\n",
    "x3 = sn.Variable('x3')\n",
    "f = sn.Functional('f',[x1,x3,x3],[10,10,10,10],activation='tanh')\n",
    "\n",
    "# Set up Model\n",
    "\n",
    "data1 = sn.Data(f)\n",
    "model = sn.SciModel([x1,x2,x3],targets=data1)\n",
    "model.summary()"
   ]
  },
  {
   "cell_type": "code",
   "execution_count": 10,
   "metadata": {},
   "outputs": [
    {
     "name": "stdout",
     "output_type": "stream",
     "text": [
      "\n",
      "Total samples: 1000 \n",
      "Batch size: 64 \n",
      "Total batches: 16 \n",
      "\n",
      "\n",
      "Epoch 190: ReduceLROnPlateau reducing learning rate to 0.0010000000474974513.\n"
     ]
    },
    {
     "data": {
      "text/plain": [
       "[<matplotlib.lines.Line2D at 0x7f29c42e66e0>]"
      ]
     },
     "execution_count": 10,
     "metadata": {},
     "output_type": "execute_result"
    },
    {
     "data": {
      "image/png": "[encoded data removed]",
      "text/plain": [
       "<Figure size 432x288 with 1 Axes>"
      ]
     },
     "metadata": {
      "needs_background": "light"
     },
     "output_type": "display_data"
    }
   ],
   "source": [
    "# train the model\n",
    "\n",
    "from tabnanny import verbose\n",
    "\n",
    "running = model.train([x1_train[:,0],x2_train[:,0],x3_train[:,0]],f_train,batch_size=64,learning_rate=0.002, epochs=500,verbose=0)\n",
    "\n",
    "plt.semilogy(running.history['loss'])\n"
   ]
  }
 ],
 "metadata": {
  "kernelspec": {
   "display_name": "Python 3.10.4 ('windturbine')",
   "language": "python",
   "name": "python3"
  },
  "language_info": {
   "codemirror_mode": {
    "name": "ipython",
    "version": 3
   },
   "file_extension": ".py",
   "mimetype": "text/x-python",
   "name": "python",
   "nbconvert_exporter": "python",
   "pygments_lexer": "ipython3",
   "version": "3.10.4"
  },
  "orig_nbformat": 4,
  "vscode": {
   "interpreter": {
    "hash": "a38f73fcb6fad9dec3a75313adf81754be954078a074a63d97705de6378af1b7"
   }
  }
 },
 "nbformat": 4,
 "nbformat_minor": 2
}
