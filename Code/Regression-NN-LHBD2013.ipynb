{
 "cells": [
  {
   "cell_type": "code",
   "execution_count": 26,
   "metadata": {},
   "outputs": [],
   "source": [
    "# Import modules\n",
    "\n",
    "#import wget\n",
    "import numpy as np\n",
    "import pandas as pd"
   ]
  },
  {
   "cell_type": "code",
   "execution_count": 27,
   "metadata": {},
   "outputs": [
    {
     "name": "stdout",
     "output_type": "stream",
     "text": [
      "(840380, 138)\n"
     ]
    }
   ],
   "source": [
    "# Download dataset and load it as a Pandas DataFrame\n",
    "\n",
    "#wget.download(https://opendata-renewables.engie.com//media/datasets/d543716b-368d-4c53-8fb1-55addbe8d3ad.zip)\n",
    "#wget.download(https://opendata-renewables.engie.com//media/datasets/01c55756-5cd6-4f60-9f63-2d771bb25a1a.zip)\n",
    "\n",
    "data_turbines = pd.read_csv('../Dataset/la-haute-borne-data-2013-2016.csv',sep=';')\n",
    "print(data_turbines.shape)"
   ]
  },
  {
   "cell_type": "code",
   "execution_count": 28,
   "metadata": {},
   "outputs": [
    {
     "name": "stdout",
     "output_type": "stream",
     "text": [
      "(210095, 138)\n",
      "(210095, 138)\n",
      "(210095, 138)\n",
      "(210095, 138)\n",
      "  Wind_turbine_name                  Date_time  Ba_avg  Ba_min     Ba_max  \\\n",
      "0            R80711  2013-01-07T01:20:00+01:00   41.16    -1.0  44.990002   \n",
      "1            R80711  2013-01-05T22:20:00+01:00   -1.00    -1.0  -0.870000   \n",
      "2            R80711  2013-01-06T08:30:00+01:00   -1.00    -1.0  -1.000000   \n",
      "\n",
      "   Ba_std  Rt_avg  Rt_min  Rt_max  Rt_std  ...  Pas_max  Pas_std   Wa_c_avg  \\\n",
      "0   11.27   12.65    12.0    13.0    0.41  ...      NaN      NaN   37.77000   \n",
      "1    0.01   12.95    12.0    13.0    0.16  ...      NaN      NaN  313.35001   \n",
      "2    0.00   13.74    13.0    14.0    0.35  ...      NaN      NaN  241.59000   \n",
      "\n",
      "   Wa_c_min  Wa_c_max  Wa_c_std   Na_c_avg  Na_c_min  Na_c_max  Na_c_std  \n",
      "0       NaN       NaN       NaN   33.75000       NaN       NaN       NaN  \n",
      "1       NaN       NaN       NaN  279.92999       NaN       NaN       NaN  \n",
      "2       NaN       NaN       NaN  246.67999       NaN       NaN       NaN  \n",
      "\n",
      "[3 rows x 138 columns]\n",
      "(210095,)\n"
     ]
    }
   ],
   "source": [
    "# Select a specifit turbine from the dataset\n",
    "\n",
    "#data_turbine1 = data_turbines.loc[ data_turbines['Wind_turbine_name'] == 'R80711' ]  \n",
    "data_turbine1 = data_turbines[data_turbines[\"Wind_turbine_name\"]==\"R80711\"]\n",
    "data_turbine2 = data_turbines[data_turbines[\"Wind_turbine_name\"]==\"R80721\"]\n",
    "data_turbine3 = data_turbines[data_turbines[\"Wind_turbine_name\"]==\"R80736\"]\n",
    "data_turbine4 = data_turbines[data_turbines[\"Wind_turbine_name\"]==\"R80790\"]\n",
    "print(data_turbine1.shape)\n",
    "print(data_turbine2.shape)\n",
    "print(data_turbine3.shape)\n",
    "print(data_turbine4.shape)\n",
    "\n",
    "print(data_turbine1.head(3))\n",
    "\n",
    "# Convert data to numpy arrays\n",
    "\n",
    "wind_speed = data_turbine1['Ws_avg']\n",
    "pitch_angle = data_turbine1['Ba_avg']\n",
    "generator_speed = data_turbine1['Ds_avg']\n",
    "torque = data_turbine1['Rm_avg']\n",
    "\n",
    "v_wind = wind_speed.to_numpy()\n",
    "theta = pitch_angle.to_numpy()\n",
    "w_turbine = generator_speed.to_numpy()\n",
    "\n",
    "print(v_wind.shape)"
   ]
  },
  {
   "cell_type": "code",
   "execution_count": null,
   "metadata": {},
   "outputs": [],
   "source": []
  }
 ],
 "metadata": {
  "kernelspec": {
   "display_name": "Python 3.10.4 ('windturbine')",
   "language": "python",
   "name": "python3"
  },
  "language_info": {
   "codemirror_mode": {
    "name": "ipython",
    "version": 3
   },
   "file_extension": ".py",
   "mimetype": "text/x-python",
   "name": "python",
   "nbconvert_exporter": "python",
   "pygments_lexer": "ipython3",
   "version": "3.10.4"
  },
  "orig_nbformat": 4,
  "vscode": {
   "interpreter": {
    "hash": "a38f73fcb6fad9dec3a75313adf81754be954078a074a63d97705de6378af1b7"
   }
  }
 },
 "nbformat": 4,
 "nbformat_minor": 2
}
