{
 "cells": [
  {
   "cell_type": "code",
   "execution_count": 3,
   "metadata": {},
   "outputs": [],
   "source": [
    "# Import modules\n",
    "import numpy as np\n",
    "import pandas as pd"
   ]
  },
  {
   "cell_type": "code",
   "execution_count": 6,
   "metadata": {},
   "outputs": [
    {
     "name": "stdout",
     "output_type": "stream",
     "text": [
      "(840380, 138)\n"
     ]
    }
   ],
   "source": [
    "# Load dataset\n",
    "data_turbines = pd.read_csv('../Dataset/la-haute-borne-data-2013-2016.csv',sep=';')\n",
    "#print(data_turbines.head())\n",
    "print(data_turbines.shape)"
   ]
  },
  {
   "cell_type": "code",
   "execution_count": 7,
   "metadata": {},
   "outputs": [],
   "source": [
    "# Prepare dataset\n",
    "data_turbine1 = data_turbines[data_turbines[\"Wind_turbine_name\"]==\"R80711\"]\n",
    "#data_turbine1 = data_turbines.loc[ data_turbines['Wind_turbine_name'] == 'R80711' ]  \n",
    "#data_turbine2 = data_turbines[data_turbines[\"Wind_turbine_name\"]==\"R80721\"]\n",
    "#data_turbine3 = data_turbines[data_turbines[\"Wind_turbine_name\"]==\"R80736\"]\n",
    "#data_turbine4 = data_turbines[data_turbines[\"Wind_turbine_name\"]==\"R80790\"]\n"
   ]
  }
 ],
 "metadata": {
  "kernelspec": {
   "display_name": "Python 3.10.4 ('windturbine')",
   "language": "python",
   "name": "python3"
  },
  "language_info": {
   "codemirror_mode": {
    "name": "ipython",
    "version": 3
   },
   "file_extension": ".py",
   "mimetype": "text/x-python",
   "name": "python",
   "nbconvert_exporter": "python",
   "pygments_lexer": "ipython3",
   "version": "3.10.4"
  },
  "orig_nbformat": 4,
  "vscode": {
   "interpreter": {
    "hash": "a38f73fcb6fad9dec3a75313adf81754be954078a074a63d97705de6378af1b7"
   }
  }
 },
 "nbformat": 4,
 "nbformat_minor": 2
}
